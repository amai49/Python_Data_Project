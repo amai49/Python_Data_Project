{
 "cells": [
  {
   "cell_type": "code",
   "execution_count": 1,
   "metadata": {},
   "outputs": [
    {
     "name": "stderr",
     "output_type": "stream",
     "text": [
      "c:\\Users\\amaib\\anaconda3\\envs\\python_course\\Lib\\site-packages\\tqdm\\auto.py:21: TqdmWarning: IProgress not found. Please update jupyter and ipywidgets. See https://ipywidgets.readthedocs.io/en/stable/user_install.html\n",
      "  from .autonotebook import tqdm as notebook_tqdm\n"
     ]
    }
   ],
   "source": [
    "# Importing Libraries\n",
    "\n",
    "import matplotlib.pyplot as plt\n",
    "import pandas as pd\n",
    "import seaborn as sns\n",
    "import ast\n",
    "from datasets import load_dataset\n",
    "\n",
    "\n",
    "# Creating Dataframe\n",
    "\n",
    "ds = load_dataset(\"lukebarousse/data_jobs\")\n",
    "df = ds['train'].to_pandas()\n",
    "\n",
    "# Cleaning the DataFrame\n",
    "\n",
    "df['job_posted_date'] = pd.to_datetime(df['job_posted_date'])   #converting job posted date to a datetime object\n",
    "df['job_skills'] = df['job_skills'].apply(lambda x: ast.literal_eval(x) if pd.notna(x) else x) # converting job skills to a list object\n",
    "\n",
    "# Drop none values from column job_skills\n",
    "# df.dropna(subset='job_skills',inplace=True)"
   ]
  },
  {
   "cell_type": "code",
   "execution_count": 2,
   "metadata": {},
   "outputs": [
    {
     "name": "stdout",
     "output_type": "stream",
     "text": [
      "<class 'pandas.core.frame.DataFrame'>\n",
      "Index: 206292 entries, 0 to 785705\n",
      "Data columns (total 17 columns):\n",
      " #   Column                 Non-Null Count   Dtype         \n",
      "---  ------                 --------------   -----         \n",
      " 0   job_title_short        206292 non-null  object        \n",
      " 1   job_title              206292 non-null  object        \n",
      " 2   job_location           205505 non-null  object        \n",
      " 3   job_via                206285 non-null  object        \n",
      " 4   job_schedule_type      205099 non-null  object        \n",
      " 5   job_work_from_home     206292 non-null  bool          \n",
      " 6   search_location        206292 non-null  object        \n",
      " 7   job_posted_date        206292 non-null  datetime64[ns]\n",
      " 8   job_no_degree_mention  206292 non-null  bool          \n",
      " 9   job_health_insurance   206292 non-null  bool          \n",
      " 10  job_country            206292 non-null  object        \n",
      " 11  salary_rate            25372 non-null   object        \n",
      " 12  salary_year_avg        15766 non-null   float64       \n",
      " 13  salary_hour_avg        9405 non-null    float64       \n",
      " 14  company_name           206292 non-null  object        \n",
      " 15  job_skills             182167 non-null  object        \n",
      " 16  job_type_skills        182167 non-null  object        \n",
      "dtypes: bool(3), datetime64[ns](1), float64(2), object(11)\n",
      "memory usage: 24.2+ MB\n"
     ]
    }
   ],
   "source": [
    "# Filtering DataFrame based on a country \n",
    "country  = \"United States\"  # country variable\n",
    "df_cn = df[df['job_country'] == country].copy()\n",
    "df_cn.info()\n",
    "\n",
    "# Exploding the job_skills column which is currently a list\n",
    "df_cn_expl = df_cn.explode('job_skills')"
   ]
  },
  {
   "cell_type": "code",
   "execution_count": 3,
   "metadata": {},
   "outputs": [],
   "source": [
    "# Creating a list of job titles to explore\n",
    "\n",
    "df_top3_job_titles = df_cn_expl['job_title_short'].value_counts().sort_values(ascending=False).head(3).reset_index(name='job_count')\n",
    "job_titles = df_top3_job_titles['job_title_short'].tolist()\n"
   ]
  },
  {
   "cell_type": "code",
   "execution_count": 4,
   "metadata": {},
   "outputs": [],
   "source": [
    "#Creating a DataFrame to capture highest count of skills for all Job Titles\n",
    "\n",
    "df_skill_count = df_cn_expl.groupby(['job_skills','job_title_short']).size().reset_index(name='skill_count')\n",
    "df_skill_count.sort_values(by='skill_count',ascending=False,inplace=True)\n"
   ]
  },
  {
   "cell_type": "code",
   "execution_count": 5,
   "metadata": {},
   "outputs": [],
   "source": [
    "# Merging 'df_skill_count' and 'df_top3_job_titles' to create a DataFrame with percentage values for the top five skills\n",
    "\n",
    "df_skill_count = df_skill_count.merge(df_top3_job_titles,how='left',on='job_title_short')\n",
    "df_skill_count['skill likelihood'] = (df_skill_count['skill_count'] / df_skill_count['job_count']) * 100"
   ]
  },
  {
   "cell_type": "code",
   "execution_count": 6,
   "metadata": {},
   "outputs": [
    {
     "data": {
      "text/html": [
       "<div>\n",
       "<style scoped>\n",
       "    .dataframe tbody tr th:only-of-type {\n",
       "        vertical-align: middle;\n",
       "    }\n",
       "\n",
       "    .dataframe tbody tr th {\n",
       "        vertical-align: top;\n",
       "    }\n",
       "\n",
       "    .dataframe thead th {\n",
       "        text-align: right;\n",
       "    }\n",
       "</style>\n",
       "<table border=\"1\" class=\"dataframe\">\n",
       "  <thead>\n",
       "    <tr style=\"text-align: right;\">\n",
       "      <th></th>\n",
       "      <th>job_skills</th>\n",
       "      <th>job_title_short</th>\n",
       "      <th>skill_count</th>\n",
       "      <th>job_count</th>\n",
       "      <th>skill likelihood</th>\n",
       "    </tr>\n",
       "  </thead>\n",
       "  <tbody>\n",
       "    <tr>\n",
       "      <th>0</th>\n",
       "      <td>python</td>\n",
       "      <td>Data Scientist</td>\n",
       "      <td>42379</td>\n",
       "      <td>322290.0</td>\n",
       "      <td>13.149338</td>\n",
       "    </tr>\n",
       "    <tr>\n",
       "      <th>1</th>\n",
       "      <td>sql</td>\n",
       "      <td>Data Analyst</td>\n",
       "      <td>34452</td>\n",
       "      <td>254289.0</td>\n",
       "      <td>13.548364</td>\n",
       "    </tr>\n",
       "    <tr>\n",
       "      <th>2</th>\n",
       "      <td>sql</td>\n",
       "      <td>Data Scientist</td>\n",
       "      <td>30034</td>\n",
       "      <td>322290.0</td>\n",
       "      <td>9.318936</td>\n",
       "    </tr>\n",
       "    <tr>\n",
       "      <th>3</th>\n",
       "      <td>excel</td>\n",
       "      <td>Data Analyst</td>\n",
       "      <td>27519</td>\n",
       "      <td>254289.0</td>\n",
       "      <td>10.821939</td>\n",
       "    </tr>\n",
       "    <tr>\n",
       "      <th>4</th>\n",
       "      <td>r</td>\n",
       "      <td>Data Scientist</td>\n",
       "      <td>26022</td>\n",
       "      <td>322290.0</td>\n",
       "      <td>8.074095</td>\n",
       "    </tr>\n",
       "    <tr>\n",
       "      <th>...</th>\n",
       "      <td>...</td>\n",
       "      <td>...</td>\n",
       "      <td>...</td>\n",
       "      <td>...</td>\n",
       "      <td>...</td>\n",
       "    </tr>\n",
       "    <tr>\n",
       "      <th>1865</th>\n",
       "      <td>clojure</td>\n",
       "      <td>Software Engineer</td>\n",
       "      <td>1</td>\n",
       "      <td>NaN</td>\n",
       "      <td>NaN</td>\n",
       "    </tr>\n",
       "    <tr>\n",
       "      <th>1866</th>\n",
       "      <td>vb.net</td>\n",
       "      <td>Senior Data Scientist</td>\n",
       "      <td>1</td>\n",
       "      <td>NaN</td>\n",
       "      <td>NaN</td>\n",
       "    </tr>\n",
       "    <tr>\n",
       "      <th>1867</th>\n",
       "      <td>fortran</td>\n",
       "      <td>Machine Learning Engineer</td>\n",
       "      <td>1</td>\n",
       "      <td>NaN</td>\n",
       "      <td>NaN</td>\n",
       "    </tr>\n",
       "    <tr>\n",
       "      <th>1868</th>\n",
       "      <td>planner</td>\n",
       "      <td>Cloud Engineer</td>\n",
       "      <td>1</td>\n",
       "      <td>NaN</td>\n",
       "      <td>NaN</td>\n",
       "    </tr>\n",
       "    <tr>\n",
       "      <th>1869</th>\n",
       "      <td>nltk</td>\n",
       "      <td>Senior Data Engineer</td>\n",
       "      <td>1</td>\n",
       "      <td>NaN</td>\n",
       "      <td>NaN</td>\n",
       "    </tr>\n",
       "  </tbody>\n",
       "</table>\n",
       "<p>1870 rows × 5 columns</p>\n",
       "</div>"
      ],
      "text/plain": [
       "     job_skills            job_title_short  skill_count  job_count  \\\n",
       "0        python             Data Scientist        42379   322290.0   \n",
       "1           sql               Data Analyst        34452   254289.0   \n",
       "2           sql             Data Scientist        30034   322290.0   \n",
       "3         excel               Data Analyst        27519   254289.0   \n",
       "4             r             Data Scientist        26022   322290.0   \n",
       "...         ...                        ...          ...        ...   \n",
       "1865    clojure          Software Engineer            1        NaN   \n",
       "1866     vb.net      Senior Data Scientist            1        NaN   \n",
       "1867    fortran  Machine Learning Engineer            1        NaN   \n",
       "1868    planner             Cloud Engineer            1        NaN   \n",
       "1869       nltk       Senior Data Engineer            1        NaN   \n",
       "\n",
       "      skill likelihood  \n",
       "0            13.149338  \n",
       "1            13.548364  \n",
       "2             9.318936  \n",
       "3            10.821939  \n",
       "4             8.074095  \n",
       "...                ...  \n",
       "1865               NaN  \n",
       "1866               NaN  \n",
       "1867               NaN  \n",
       "1868               NaN  \n",
       "1869               NaN  \n",
       "\n",
       "[1870 rows x 5 columns]"
      ]
     },
     "execution_count": 6,
     "metadata": {},
     "output_type": "execute_result"
    }
   ],
   "source": [
    "df_skill_count"
   ]
  },
  {
   "cell_type": "code",
   "execution_count": 7,
   "metadata": {},
   "outputs": [
    {
     "name": "stdout",
     "output_type": "stream",
     "text": [
      "<class 'pandas.core.frame.DataFrame'>\n",
      "Index: 1073565 entries, 0 to 785705\n",
      "Data columns (total 17 columns):\n",
      " #   Column                 Non-Null Count    Dtype         \n",
      "---  ------                 --------------    -----         \n",
      " 0   job_title_short        1073565 non-null  object        \n",
      " 1   job_title              1073565 non-null  object        \n",
      " 2   job_location           1069655 non-null  object        \n",
      " 3   job_via                1073523 non-null  object        \n",
      " 4   job_schedule_type      1068781 non-null  object        \n",
      " 5   job_work_from_home     1073565 non-null  bool          \n",
      " 6   search_location        1073565 non-null  object        \n",
      " 7   job_posted_date        1073565 non-null  datetime64[ns]\n",
      " 8   job_no_degree_mention  1073565 non-null  bool          \n",
      " 9   job_health_insurance   1073565 non-null  bool          \n",
      " 10  job_country            1073565 non-null  object        \n",
      " 11  salary_rate            129800 non-null   object        \n",
      " 12  salary_year_avg        85378 non-null    float64       \n",
      " 13  salary_hour_avg        43535 non-null    float64       \n",
      " 14  company_name           1073565 non-null  object        \n",
      " 15  job_skills             1049440 non-null  object        \n",
      " 16  job_type_skills        1049440 non-null  object        \n",
      "dtypes: bool(3), datetime64[ns](1), float64(2), object(11)\n",
      "memory usage: 125.9+ MB\n"
     ]
    }
   ],
   "source": [
    "df_cn_expl.info()"
   ]
  },
  {
   "cell_type": "code",
   "execution_count": 8,
   "metadata": {},
   "outputs": [
    {
     "data": {
      "text/plain": [
       "job_title_short\n",
       "Data Analyst                 196075\n",
       "Data Engineer                186241\n",
       "Data Scientist               172286\n",
       "Business Analyst              49063\n",
       "Software Engineer             44929\n",
       "Senior Data Engineer          44563\n",
       "Senior Data Scientist         36957\n",
       "Senior Data Analyst           29216\n",
       "Machine Learning Engineer     14080\n",
       "Cloud Engineer                12331\n",
       "Name: count, dtype: int64"
      ]
     },
     "execution_count": 8,
     "metadata": {},
     "output_type": "execute_result"
    }
   ],
   "source": [
    "df['job_title_short'].value_counts()"
   ]
  },
  {
   "cell_type": "code",
   "execution_count": null,
   "metadata": {},
   "outputs": [],
   "source": []
  }
 ],
 "metadata": {
  "kernelspec": {
   "display_name": "python_course",
   "language": "python",
   "name": "python3"
  },
  "language_info": {
   "codemirror_mode": {
    "name": "ipython",
    "version": 3
   },
   "file_extension": ".py",
   "mimetype": "text/x-python",
   "name": "python",
   "nbconvert_exporter": "python",
   "pygments_lexer": "ipython3",
   "version": "3.11.9"
  }
 },
 "nbformat": 4,
 "nbformat_minor": 2
}
